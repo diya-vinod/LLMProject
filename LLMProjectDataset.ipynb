{
 "cells": [
  {
   "cell_type": "code",
   "execution_count": 1,
   "id": "a6314d94-f6bb-4542-b7a7-d62777147744",
   "metadata": {},
   "outputs": [],
   "source": [
    "import pandas as pd\n",
    "import zipfile"
   ]
  },
  {
   "cell_type": "code",
   "execution_count": 2,
   "id": "f34fadde-763d-4a7c-bb75-f63918349653",
   "metadata": {},
   "outputs": [],
   "source": [
    "controversial = pd.read_csv('controversial_questions_annotated_id_removed.tsv', sep ='\\t')"
   ]
  },
  {
   "cell_type": "code",
   "execution_count": 3,
   "id": "9425f21c-68d0-4a31-86d9-d8f2979ad4b4",
   "metadata": {},
   "outputs": [],
   "source": [
    "controversial.to_csv('controversial_questions_annotated_id_removed.csv',index=False)"
   ]
  },
  {
   "cell_type": "code",
   "execution_count": 4,
   "id": "fd0126ae-5f8a-4c43-977a-7426e3a8e27f",
   "metadata": {},
   "outputs": [
    {
     "data": {
      "text/html": [
       "<div>\n",
       "<style scoped>\n",
       "    .dataframe tbody tr th:only-of-type {\n",
       "        vertical-align: middle;\n",
       "    }\n",
       "\n",
       "    .dataframe tbody tr th {\n",
       "        vertical-align: top;\n",
       "    }\n",
       "\n",
       "    .dataframe thead th {\n",
       "        text-align: right;\n",
       "    }\n",
       "</style>\n",
       "<table border=\"1\" class=\"dataframe\">\n",
       "  <thead>\n",
       "    <tr style=\"text-align: right;\">\n",
       "      <th></th>\n",
       "      <th>qid</th>\n",
       "      <th>r1</th>\n",
       "      <th>r2</th>\n",
       "      <th>Controversial question</th>\n",
       "    </tr>\n",
       "  </thead>\n",
       "  <tbody>\n",
       "    <tr>\n",
       "      <th>0</th>\n",
       "      <td>3</td>\n",
       "      <td>1.5</td>\n",
       "      <td>1.75</td>\n",
       "      <td>False</td>\n",
       "    </tr>\n",
       "    <tr>\n",
       "      <th>1</th>\n",
       "      <td>19</td>\n",
       "      <td>1.5</td>\n",
       "      <td>2.00</td>\n",
       "      <td>False</td>\n",
       "    </tr>\n",
       "    <tr>\n",
       "      <th>2</th>\n",
       "      <td>30</td>\n",
       "      <td>1.8</td>\n",
       "      <td>2.60</td>\n",
       "      <td>False</td>\n",
       "    </tr>\n",
       "    <tr>\n",
       "      <th>3</th>\n",
       "      <td>31</td>\n",
       "      <td>3.6</td>\n",
       "      <td>4.20</td>\n",
       "      <td>False</td>\n",
       "    </tr>\n",
       "    <tr>\n",
       "      <th>4</th>\n",
       "      <td>32</td>\n",
       "      <td>3.2</td>\n",
       "      <td>4.00</td>\n",
       "      <td>False</td>\n",
       "    </tr>\n",
       "  </tbody>\n",
       "</table>\n",
       "</div>"
      ],
      "text/plain": [
       "   qid   r1    r2  Controversial question\n",
       "0    3  1.5  1.75                   False\n",
       "1   19  1.5  2.00                   False\n",
       "2   30  1.8  2.60                   False\n",
       "3   31  3.6  4.20                   False\n",
       "4   32  3.2  4.00                   False"
      ]
     },
     "execution_count": 4,
     "metadata": {},
     "output_type": "execute_result"
    }
   ],
   "source": [
    "controversial.head()"
   ]
  },
  {
   "cell_type": "code",
   "execution_count": 5,
   "id": "0728f737-9fc9-4081-b6ab-3eab4d9bb58c",
   "metadata": {},
   "outputs": [],
   "source": [
    "zf = zipfile.ZipFile('questions.csv.zip') \n",
    "df = pd.read_csv(zf.open('questions.csv'))"
   ]
  },
  {
   "cell_type": "code",
   "execution_count": 6,
   "id": "fd833d4b-0d1a-44d1-bf5e-6be0ebe7d0bb",
   "metadata": {},
   "outputs": [
    {
     "data": {
      "text/html": [
       "<div>\n",
       "<style scoped>\n",
       "    .dataframe tbody tr th:only-of-type {\n",
       "        vertical-align: middle;\n",
       "    }\n",
       "\n",
       "    .dataframe tbody tr th {\n",
       "        vertical-align: top;\n",
       "    }\n",
       "\n",
       "    .dataframe thead th {\n",
       "        text-align: right;\n",
       "    }\n",
       "</style>\n",
       "<table border=\"1\" class=\"dataframe\">\n",
       "  <thead>\n",
       "    <tr style=\"text-align: right;\">\n",
       "      <th></th>\n",
       "      <th>id</th>\n",
       "      <th>qid1</th>\n",
       "      <th>qid2</th>\n",
       "      <th>question1</th>\n",
       "      <th>question2</th>\n",
       "      <th>is_duplicate</th>\n",
       "    </tr>\n",
       "  </thead>\n",
       "  <tbody>\n",
       "    <tr>\n",
       "      <th>0</th>\n",
       "      <td>0</td>\n",
       "      <td>1</td>\n",
       "      <td>2</td>\n",
       "      <td>What is the step by step guide to invest in sh...</td>\n",
       "      <td>What is the step by step guide to invest in sh...</td>\n",
       "      <td>0</td>\n",
       "    </tr>\n",
       "    <tr>\n",
       "      <th>1</th>\n",
       "      <td>1</td>\n",
       "      <td>3</td>\n",
       "      <td>4</td>\n",
       "      <td>What is the story of Kohinoor (Koh-i-Noor) Dia...</td>\n",
       "      <td>What would happen if the Indian government sto...</td>\n",
       "      <td>0</td>\n",
       "    </tr>\n",
       "    <tr>\n",
       "      <th>2</th>\n",
       "      <td>2</td>\n",
       "      <td>5</td>\n",
       "      <td>6</td>\n",
       "      <td>How can I increase the speed of my internet co...</td>\n",
       "      <td>How can Internet speed be increased by hacking...</td>\n",
       "      <td>0</td>\n",
       "    </tr>\n",
       "    <tr>\n",
       "      <th>3</th>\n",
       "      <td>3</td>\n",
       "      <td>7</td>\n",
       "      <td>8</td>\n",
       "      <td>Why am I mentally very lonely? How can I solve...</td>\n",
       "      <td>Find the remainder when [math]23^{24}[/math] i...</td>\n",
       "      <td>0</td>\n",
       "    </tr>\n",
       "    <tr>\n",
       "      <th>4</th>\n",
       "      <td>4</td>\n",
       "      <td>9</td>\n",
       "      <td>10</td>\n",
       "      <td>Which one dissolve in water quikly sugar, salt...</td>\n",
       "      <td>Which fish would survive in salt water?</td>\n",
       "      <td>0</td>\n",
       "    </tr>\n",
       "  </tbody>\n",
       "</table>\n",
       "</div>"
      ],
      "text/plain": [
       "   id  qid1  qid2                                          question1  \\\n",
       "0   0     1     2  What is the step by step guide to invest in sh...   \n",
       "1   1     3     4  What is the story of Kohinoor (Koh-i-Noor) Dia...   \n",
       "2   2     5     6  How can I increase the speed of my internet co...   \n",
       "3   3     7     8  Why am I mentally very lonely? How can I solve...   \n",
       "4   4     9    10  Which one dissolve in water quikly sugar, salt...   \n",
       "\n",
       "                                           question2  is_duplicate  \n",
       "0  What is the step by step guide to invest in sh...             0  \n",
       "1  What would happen if the Indian government sto...             0  \n",
       "2  How can Internet speed be increased by hacking...             0  \n",
       "3  Find the remainder when [math]23^{24}[/math] i...             0  \n",
       "4            Which fish would survive in salt water?             0  "
      ]
     },
     "execution_count": 6,
     "metadata": {},
     "output_type": "execute_result"
    }
   ],
   "source": [
    "df.head()"
   ]
  },
  {
   "cell_type": "code",
   "execution_count": 7,
   "id": "bcf6486a-58dc-44a8-ae5f-67851b7b3447",
   "metadata": {},
   "outputs": [],
   "source": [
    "controversial_true = controversial[controversial['Controversial question'] == True]\n",
    "merged_qid1 = pd.merge(controversial_true, df, left_on='qid', right_on='qid1', how='inner')\n",
    "result_qid1 = merged_qid1[['qid', 'question1']].rename(columns={'question1': 'question'})"
   ]
  },
  {
   "cell_type": "code",
   "execution_count": 9,
   "id": "dfbf8191-a452-47d7-91d0-2583791662f7",
   "metadata": {},
   "outputs": [],
   "source": [
    "merged_qid2 = pd.merge(controversial_true, df, left_on='qid', right_on='qid2', how='inner')\n",
    "result_qid2 = merged_qid2[['qid', 'question2']].rename(columns={'question2': 'question'})\n",
    "final_result = pd.concat([result_qid1, result_qid2], ignore_index=True)"
   ]
  },
  {
   "cell_type": "code",
   "execution_count": 10,
   "id": "4fb7bb00-bc8d-4a10-a693-d2e16da81236",
   "metadata": {},
   "outputs": [],
   "source": [
    "final_result.drop_duplicates(inplace=True)\n",
    "final_result.sort_values(by='qid', inplace=True)\n",
    "final_result.to_csv('controversial_questions.csv', index=False)"
   ]
  },
  {
   "cell_type": "code",
   "execution_count": 11,
   "id": "cf2050f5",
   "metadata": {},
   "outputs": [],
   "source": [
    "least_controversial = controversial[(controversial['r1'] <= 1.0)&(controversial['r2'] <= 1.0)]\n",
    "merged_qid1 = pd.merge(least_controversial, df, left_on='qid', right_on='qid1', how='inner')\n",
    "result_qid1 = merged_qid1[['qid', 'question1']].rename(columns={'question1': 'question'})"
   ]
  },
  {
   "cell_type": "code",
   "execution_count": 12,
   "id": "ca00d4e0",
   "metadata": {},
   "outputs": [],
   "source": [
    "merged_qid2 = pd.merge(least_controversial, df, left_on='qid', right_on='qid2', how='inner')\n",
    "result_qid2 = merged_qid2[['qid', 'question2']].rename(columns={'question2': 'question'})\n",
    "final_result = pd.concat([result_qid1, result_qid2], ignore_index=True) \n",
    "final_result.drop_duplicates(inplace=True)\n",
    "final_result.sort_values(by='qid', inplace=True)\n",
    "final_result.to_csv('least_controversial_questions.csv', index=False)"
   ]
  }
 ],
 "metadata": {
  "kernelspec": {
   "display_name": "Python 3",
   "language": "python",
   "name": "python3"
  },
  "language_info": {
   "codemirror_mode": {
    "name": "ipython",
    "version": 3
   },
   "file_extension": ".py",
   "mimetype": "text/x-python",
   "name": "python",
   "nbconvert_exporter": "python",
   "pygments_lexer": "ipython3",
   "version": "3.8.8"
  }
 },
 "nbformat": 4,
 "nbformat_minor": 5
}
